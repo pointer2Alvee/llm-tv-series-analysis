{
 "cells": [
  {
   "cell_type": "code",
   "execution_count": 3,
   "metadata": {},
   "outputs": [
    {
     "name": "stderr",
     "output_type": "stream",
     "text": [
      "C:\\Users\\alvee\\AppData\\Roaming\\Python\\Python310\\site-packages\\tqdm\\auto.py:21: TqdmWarning: IProgress not found. Please update jupyter and ipywidgets. See https://ipywidgets.readthedocs.io/en/stable/user_install.html\n",
      "  from .autonotebook import tqdm as notebook_tqdm\n"
     ]
    }
   ],
   "source": [
    "from transformers import pipeline # importing hugging face\n",
    "from nltk import sent_tokenize # sentence tokenizer, separate text to multiple sentences\n",
    "import nltk\n",
    "import torch\n",
    "from glob import glob # for file paths\n",
    "import pandas as pd # for tabular dataset\n",
    "import numpy as np\n",
    "import matplotlib.pyplot as plt\n",
    "import seaborn as sns"
   ]
  },
  {
   "cell_type": "code",
   "execution_count": 4,
   "metadata": {},
   "outputs": [
    {
     "name": "stderr",
     "output_type": "stream",
     "text": [
      "[nltk_data] Downloading package punkt to\n",
      "[nltk_data]     C:\\Users\\alvee\\AppData\\Roaming\\nltk_data...\n",
      "[nltk_data]   Package punkt is already up-to-date!\n"
     ]
    },
    {
     "data": {
      "text/plain": [
       "True"
      ]
     },
     "execution_count": 4,
     "metadata": {},
     "output_type": "execute_result"
    }
   ],
   "source": [
    "nltk.download('punkt')"
   ]
  },
  {
   "cell_type": "markdown",
   "metadata": {},
   "source": [
    "### (1) LOAD THEME-CLASSIFIER MODEL"
   ]
  },
  {
   "cell_type": "code",
   "execution_count": 5,
   "metadata": {},
   "outputs": [
    {
     "name": "stdout",
     "output_type": "stream",
     "text": [
      "gpu->0 else 'cpu', we get : 0\n"
     ]
    }
   ],
   "source": [
    "model_name = \"facebook/bart-large-mnli\"\n",
    "device = 0 if torch.cuda.is_available() else 'cpu' # if gpu present use gpu, 0 is gpu number 1\n",
    "# check if gpu or cpu. we get 0 so gpu\n",
    "print (f\"gpu->0 else 'cpu', we get : {device}\")"
   ]
  },
  {
   "cell_type": "code",
   "execution_count": 6,
   "metadata": {},
   "outputs": [],
   "source": [
    "# LOAD THE THEME-CLASSIFIER MODEL \n",
    "# but its not recommended to read model_name from global variable, this fucntion should be inside a class\n",
    "\n",
    "def load_model(device):\n",
    "    theme_classifier = pipeline(\n",
    "        \"zero-shot-classification\",\n",
    "        model=model_name,\n",
    "        device=device\n",
    "    )\n",
    "    return theme_classifier\n"
   ]
  },
  {
   "cell_type": "code",
   "execution_count": 7,
   "metadata": {},
   "outputs": [
    {
     "name": "stderr",
     "output_type": "stream",
     "text": [
      "C:\\Users\\alvee\\AppData\\Roaming\\Python\\Python310\\site-packages\\transformers\\tokenization_utils_base.py:1601: FutureWarning: `clean_up_tokenization_spaces` was not set. It will be set to `True` by default. This behavior will be depracted in transformers v4.45, and will be then set to `False` by default. For more details check this issue: https://github.com/huggingface/transformers/issues/31884\n",
      "  warnings.warn(\n"
     ]
    }
   ],
   "source": [
    "theme_classifier = load_model(device) # install the model in puts it into gpu-mem?\n",
    "# should unload it as well after work done? search how to unload\n"
   ]
  },
  {
   "cell_type": "code",
   "execution_count": 8,
   "metadata": {},
   "outputs": [],
   "source": [
    "theme_list = [\"friendship\", \"hope\", \"sacrifice\", \"battle\", \"self development\", \"betrayal\", \"love\", \"dialogue\", \"fear\"]\n",
    "# friendship, hope, sacrifice, battle, self development, betrayal, love, dialogue"
   ]
  },
  {
   "cell_type": "code",
   "execution_count": 12,
   "metadata": {},
   "outputs": [
    {
     "data": {
      "text/plain": [
       "{'sequence': 'It was a cold dark night in the graveyard, when i heard noises down the isle and something was singing in a scary voice ',\n",
       " 'labels': ['fear',\n",
       "  'dialogue',\n",
       "  'self development',\n",
       "  'sacrifice',\n",
       "  'betrayal',\n",
       "  'battle',\n",
       "  'friendship',\n",
       "  'love',\n",
       "  'hope'],\n",
       " 'scores': [0.6471216678619385,\n",
       "  0.11516249179840088,\n",
       "  0.07549849897623062,\n",
       "  0.06328720599412918,\n",
       "  0.04112415760755539,\n",
       "  0.02909783460199833,\n",
       "  0.013085508719086647,\n",
       "  0.009307315573096275,\n",
       "  0.006315321195870638]}"
      ]
     },
     "execution_count": 12,
     "metadata": {},
     "output_type": "execute_result"
    }
   ],
   "source": [
    "# to classify anything with the zero-shot classifier just call it\n",
    "# write any text and run it, it gives probability score for each class\n",
    "theme_classifier(\n",
    "    \"It was a cold dark night in the graveyard, when i heard noises down the isle and something was singing in a scary voice \",\n",
    "    theme_list, \n",
    "    multi_labels=True\n",
    ")\n",
    "\n",
    "\n"
   ]
  },
  {
   "cell_type": "markdown",
   "metadata": {},
   "source": [
    "### (2) LOAD DATASET"
   ]
  },
  {
   "cell_type": "code",
   "execution_count": 10,
   "metadata": {},
   "outputs": [
    {
     "data": {
      "text/plain": [
       "['../data/Subtitles\\\\Naruto Season 1 - 01.ass',\n",
       " '../data/Subtitles\\\\Naruto Season 1 - 02.ass',\n",
       " '../data/Subtitles\\\\Naruto Season 1 - 03.ass',\n",
       " '../data/Subtitles\\\\Naruto Season 1 - 04.ass',\n",
       " '../data/Subtitles\\\\Naruto Season 1 - 05.ass']"
      ]
     },
     "execution_count": 10,
     "metadata": {},
     "output_type": "execute_result"
    }
   ],
   "source": [
    "# load subtitles dataset\n",
    "files = glob('../data/Subtitles/*.ass') # * means get all file with .ass \n",
    "files[:5] # test , print first 5 "
   ]
  },
  {
   "cell_type": "code",
   "execution_count": 11,
   "metadata": {},
   "outputs": [
    {
     "data": {
      "text/plain": [
       "['A long time ago, a powerful demon fox appeared with nine tails.\\n',\n",
       " 'With its powerful tails,\\n']"
      ]
     },
     "execution_count": 11,
     "metadata": {},
     "output_type": "execute_result"
    }
   ],
   "source": [
    "with open(files[0], 'r') as file:\n",
    "    lines = file.readlines()\n",
    "    \n",
    "    # data cleaning\n",
    "    lines = lines[27:] # data from line 27, because before it are meta data\n",
    "    lines = [\",\".join(line.split(',')[9:]) for line in lines ]# remove everything before the 9th comma , we just want the text\n",
    "    lines = [line.replace('\\\\N',' ') for line in lines ]# remove \\\\n from the text\n",
    "\n",
    "\n",
    "#  check \n",
    "lines[:2]"
   ]
  },
  {
   "cell_type": "code",
   "execution_count": 12,
   "metadata": {},
   "outputs": [
    {
     "data": {
      "text/plain": [
       "\"A long time ago, a powerful demon fox appeared with nine tails.\\n With its powerful tails,\\n it could smash mountains and create tidal waves.\\n A band of Ninjas rose to defend their village from attack.\\n We have to wait until the Fourth Hokage gets here!\\n We can't let it get any closer to our village!\\n One great Ninja was able to imprison the monster,\\n but died in the process.\\n This Ninja was known asâ€¦ the Fourth Hokage.\\n Naruto!\\n\""
      ]
     },
     "execution_count": 12,
     "metadata": {},
     "output_type": "execute_result"
    }
   ],
   "source": [
    "# combine different sentences into one-big paragraph\n",
    "\" \".join(lines[:10]) # joins first 10 lines\n",
    "# this is the paragraph to be fed in theme-clf FNN, it can ake max 512 tokens input\n",
    "# so divide it in batches [:10] / [:20] etc"
   ]
  },
  {
   "cell_type": "code",
   "execution_count": 13,
   "metadata": {},
   "outputs": [],
   "source": [
    "# extract episode number from subitle file name\n"
   ]
  },
  {
   "cell_type": "code",
   "execution_count": 48,
   "metadata": {},
   "outputs": [],
   "source": [
    "# put all above from (2) Load Dataset in a single function : \n",
    "def load_subtitles_dataset(dataset_path):\n",
    "    subtitles_paths = glob(dataset_path + '/*.ass')\n",
    "    scripts = []\n",
    "    episode_num = []\n",
    "    for path in subtitles_paths: #path is the directory/file.ass\n",
    "        # print(f\"debug path: {path}\")\n",
    "        # from each path/ subtitle file read lines\n",
    "        with open(path, 'r', encoding='utf-8') as file: # without  encoding='utf-8' gives error, not shown in video\n",
    "            lines = file.readlines()\n",
    "            \n",
    "            # data/line cleaning\n",
    "            lines = lines[27:] # data from line 27, because before it are meta data\n",
    "            lines = [\",\".join(line.split(',')[9:]) for line in lines ]# remove everything before the 9th comma , we just want the text\n",
    "        \n",
    "        # data/line cleaning\n",
    "        lines = [line.replace('\\\\N',' ') for line in lines ]# remove \\\\n from the text\n",
    "        script = \" \".join(lines) # all texts to one big paragraph\n",
    "\n",
    "        episode = int(path.split('-')[-1].split('.')[0].strip())\n",
    "        scripts.append(script)\n",
    "        episode_num.append(episode)\n",
    "\n",
    "    df = pd.DataFrame.from_dict({\"episode\" : episode_num, \"script\": scripts})\n",
    "    return df\n",
    "\n"
   ]
  },
  {
   "cell_type": "code",
   "execution_count": 49,
   "metadata": {},
   "outputs": [
    {
     "data": {
      "text/html": [
       "<div>\n",
       "<style scoped>\n",
       "    .dataframe tbody tr th:only-of-type {\n",
       "        vertical-align: middle;\n",
       "    }\n",
       "\n",
       "    .dataframe tbody tr th {\n",
       "        vertical-align: top;\n",
       "    }\n",
       "\n",
       "    .dataframe thead th {\n",
       "        text-align: right;\n",
       "    }\n",
       "</style>\n",
       "<table border=\"1\" class=\"dataframe\">\n",
       "  <thead>\n",
       "    <tr style=\"text-align: right;\">\n",
       "      <th></th>\n",
       "      <th>episode</th>\n",
       "      <th>script</th>\n",
       "    </tr>\n",
       "  </thead>\n",
       "  <tbody>\n",
       "    <tr>\n",
       "      <th>0</th>\n",
       "      <td>1</td>\n",
       "      <td>A long time ago, a powerful demon fox appeared...</td>\n",
       "    </tr>\n",
       "    <tr>\n",
       "      <th>1</th>\n",
       "      <td>2</td>\n",
       "      <td>C'mon!\\n Running like a fugitive,\\n Being chas...</td>\n",
       "    </tr>\n",
       "    <tr>\n",
       "      <th>2</th>\n",
       "      <td>3</td>\n",
       "      <td>C'mon!\\n Running like a fugitive,\\n Being chas...</td>\n",
       "    </tr>\n",
       "    <tr>\n",
       "      <th>3</th>\n",
       "      <td>4</td>\n",
       "      <td>C'mon!\\n Running like a fugitive,\\n Being chas...</td>\n",
       "    </tr>\n",
       "    <tr>\n",
       "      <th>4</th>\n",
       "      <td>5</td>\n",
       "      <td>C'mon!\\n Running like a fugitive,\\n Being chas...</td>\n",
       "    </tr>\n",
       "  </tbody>\n",
       "</table>\n",
       "</div>"
      ],
      "text/plain": [
       "   episode                                             script\n",
       "0        1  A long time ago, a powerful demon fox appeared...\n",
       "1        2  C'mon!\\n Running like a fugitive,\\n Being chas...\n",
       "2        3  C'mon!\\n Running like a fugitive,\\n Being chas...\n",
       "3        4  C'mon!\\n Running like a fugitive,\\n Being chas...\n",
       "4        5  C'mon!\\n Running like a fugitive,\\n Being chas..."
      ]
     },
     "execution_count": 49,
     "metadata": {},
     "output_type": "execute_result"
    }
   ],
   "source": [
    "dataset_path = \"../data/Subtitles\" \n",
    "df = load_subtitles_dataset(dataset_path)\n",
    "\n",
    "df.head()\n",
    "    "
   ]
  },
  {
   "cell_type": "markdown",
   "metadata": {},
   "source": [
    "(2.1) RUN MODEL"
   ]
  },
  {
   "cell_type": "code",
   "execution_count": 50,
   "metadata": {},
   "outputs": [
    {
     "data": {
      "text/plain": [
       "['A long time ago, a powerful demon fox appeared with nine tails.',\n",
       " 'With its powerful tails,\\n it could smash mountains and create tidal waves.',\n",
       " 'A band of Ninjas rose to defend their village from attack.']"
      ]
     },
     "execution_count": 50,
     "metadata": {},
     "output_type": "execute_result"
    }
   ],
   "source": [
    "# load 'script' of the first episode [0]\n",
    "script = df.iloc[0]['script']\n",
    "\n",
    "# print script\n",
    "script # one long script\n",
    "\n",
    "# divide sciprt for tokenizer\n",
    "script_sentences = sent_tokenize(script)\n",
    "\n",
    "# print\n",
    "script_sentences[:3] # display first 3 sentences"
   ]
  },
  {
   "cell_type": "code",
   "execution_count": 51,
   "metadata": {},
   "outputs": [
    {
     "data": {
      "text/plain": [
       "[\"A long time ago, a powerful demon fox appeared with nine tails. With its powerful tails,\\n it could smash mountains and create tidal waves. A band of Ninjas rose to defend their village from attack. We have to wait until the Fourth Hokage gets here! We can't let it get any closer to our village! One great Ninja was able to imprison the monster,\\n but died in the process. This Ninja was known as… the Fourth Hokage. Naruto! Why did you do such a thing?! You're really gonna get it this time! I don't care! You know your problem? You can't do the things I do! Only I can do this! I'm better than all of you! Believe it! There's a problem, sir! Lord Hokage! What is it? Did that Naruto do something again?\",\n",
       " 'Yes. He climbed onto the Mountainside Images…\\n And he vandalized and graffitied all over them! Wait! Ha ha…\\n Why should I? Hey, Naruto! How did you suddenly get here, lruka Sensei? The question is what are you doing here when you should be in class now? Now listen, Naruto. You failed the last graduation test and the one before that. This is no time to be goofing off, you fool! We will have a re-test on the Transformation Jutsu! Even those who already passed will take it! Whaaaat?! Sakura Haruno. Here I go…\\n Transform! OK! I did it! Cha! Did you see that, Sasuke? Next, Sasuke Uchiha.']"
      ]
     },
     "execution_count": 51,
     "metadata": {},
     "output_type": "execute_result"
    }
   ],
   "source": [
    "# batch sentences\n",
    "sentence_batch_size = 20\n",
    "script_batches = []\n",
    "for index in range(0, len(script_sentences), sentence_batch_size): # each indx jump by setence_batch_size which is 20\n",
    "    sent = \" \".join(script_sentences[index:index + sentence_batch_size])\n",
    "    script_batches.append(sent)\n",
    "\n",
    "# 20 sentences batched together \n",
    "script_batches[:2] # each 20 sentence is 1 batch, so [:2] display first 2 batch meaning 40 sentences"
   ]
  },
  {
   "cell_type": "code",
   "execution_count": 52,
   "metadata": {},
   "outputs": [],
   "source": [
    "# put subtitle data into model : \n",
    "theme_output = theme_classifier(\n",
    "    script_batches[:3],\n",
    "    theme_list,\n",
    "    multi_label=True\n",
    ")"
   ]
  },
  {
   "cell_type": "code",
   "execution_count": 53,
   "metadata": {},
   "outputs": [
    {
     "data": {
      "text/plain": [
       "{'dialogue': [0.980073869228363, 0.9370123147964478, 0.9554799199104309],\n",
       " 'betrayal': [0.9396897554397583, 0.6457234621047974, 0.7342314124107361],\n",
       " 'battle': [0.854687511920929, 0.6581311225891113, 0.752046525478363],\n",
       " 'sacrifice': [0.7349810004234314, 0.6258835792541504, 0.5151650905609131],\n",
       " 'self development': [0.7284947037696838,\n",
       "  0.8678191304206848,\n",
       "  0.7187488079071045],\n",
       " 'hope': [0.19909749925136566, 0.20424073934555054, 0.5138543844223022],\n",
       " 'friendship': [0.05922317877411842, 0.0860324501991272, 0.3491222560405731],\n",
       " 'love': [0.040261927992105484, 0.02802046574652195, 0.19979596138000488]}"
      ]
     },
     "execution_count": 53,
     "metadata": {},
     "output_type": "execute_result"
    }
   ],
   "source": [
    "# output \n",
    "theme_output\n",
    "\n",
    "# structured Output ==> battle :[batch_1_score,batch_2_score, ...] ==> battle : [0.3232,0.5645,..]\n",
    "themes = {}\n",
    "for output in theme_output:\n",
    "    for label,score in zip(output['labels'],output['scores']):\n",
    "        if label not in themes:\n",
    "            themes[label] = []\n",
    "        themes[label].append(score)\n",
    "\n",
    "# print strcutured theme outputs for each batches\n",
    "themes"
   ]
  },
  {
   "cell_type": "code",
   "execution_count": 55,
   "metadata": {},
   "outputs": [],
   "source": [
    "# put all above code from (2.1) run model in below function:\n",
    "def get_theme_inference(script):\n",
    "    script_sentences = sent_tokenize(script)\n",
    "    \n",
    "    # Batch sentences\n",
    "    # batch sentences\n",
    "    sentence_batch_size = 20\n",
    "    script_batches = []\n",
    "    for index in range(0, len(script_sentences), sentence_batch_size):\n",
    "        sent = \" \".join(script_sentences[index:index + sentence_batch_size])\n",
    "        script_batches.append(sent)\n",
    "\n",
    "    # Run model\n",
    "    theme_output = theme_classifier(\n",
    "        script_batches[:2],\n",
    "        theme_list,\n",
    "        multi_label=True\n",
    "    )\n",
    "    \n",
    "    # structured/wrangle Output\n",
    "    themes = {}\n",
    "    for output in theme_output:\n",
    "        for label,score in zip(output['labels'],output['scores']):\n",
    "            if label not in themes:\n",
    "                themes[label] = []\n",
    "            themes[label].append(score)\n",
    "\n",
    "    # Find mean of each theme, (batch_1_score + batch_2_score + batch_n_score) / n\n",
    "    themes = {key : np.mean(value) for key,value in themes.items()}\n",
    "    \n",
    "    # each score below for each theme is a mean of all scores of that theme    \n",
    "    return themes"
   ]
  },
  {
   "cell_type": "code",
   "execution_count": 56,
   "metadata": {},
   "outputs": [],
   "source": [
    "\n",
    "df = df # whole dataset / all epiodes\n",
    "# df = df.head(2)\n",
    "df\n",
    "\n",
    "# Run for every episode's script, only 2 episodes as df = df.head(2)\n",
    "output_themes = df['script'].apply(get_theme_inference) # runs get_theme_inference() func for all episode's script\n",
    "\n",
    "# we running on gpu so its fast, \n",
    "# see task_manager to see gpu usegase go up while running this code cell\n",
    "# WE RUN THE WHOLE DATASET ON THEME_CLASSIFIER using OUR GPU\n"
   ]
  },
  {
   "cell_type": "code",
   "execution_count": 57,
   "metadata": {},
   "outputs": [
    {
     "name": "stdout",
     "output_type": "stream",
     "text": [
      "For all episodes : \n",
      "0      {'dialogue': 0.9585430920124054, 'betrayal': 0...\n",
      "1      {'dialogue': 0.9606055617332458, 'sacrifice': ...\n",
      "2      {'dialogue': 0.9430063962936401, 'sacrifice': ...\n",
      "3      {'dialogue': 0.7951260209083557, 'sacrifice': ...\n",
      "4      {'dialogue': 0.9142743051052094, 'betrayal': 0...\n",
      "                             ...                        \n",
      "213    {'dialogue': 0.8980685174465179, 'betrayal': 0...\n",
      "214    {'dialogue': 0.9584203064441681, 'friendship':...\n",
      "215    {'dialogue': 0.9379824995994568, 'sacrifice': ...\n",
      "216    {'sacrifice': 0.889953076839447, 'dialogue': 0...\n",
      "217    {'dialogue': 0.9236288666725159, 'battle': 0.8...\n",
      "Name: script, Length: 218, dtype: object\n",
      "\n",
      "Analyze single episode:\n"
     ]
    },
    {
     "data": {
      "text/plain": [
       "{'dialogue': 0.9585430920124054,\n",
       " 'betrayal': 0.7927066087722778,\n",
       " 'battle': 0.7564093172550201,\n",
       " 'sacrifice': 0.6804322898387909,\n",
       " 'self development': 0.7981569170951843,\n",
       " 'hope': 0.2016691192984581,\n",
       " 'friendship': 0.07262781448662281,\n",
       " 'love': 0.03414119686931372}"
      ]
     },
     "execution_count": 57,
     "metadata": {},
     "output_type": "execute_result"
    }
   ],
   "source": [
    "# output\n",
    "output_themes # for all episodes\n",
    "print(f\"For all episodes : \\n{output_themes}\")\n",
    "\n",
    "# just analyze one episode\n",
    "print(f\"\\nAnalyze single episode:\")# here for each episode (0 to 217) we get mean score of each theme in a dict per episode\n",
    "output_themes[0]"
   ]
  },
  {
   "cell_type": "code",
   "execution_count": 58,
   "metadata": {},
   "outputs": [
    {
     "data": {
      "text/html": [
       "<div>\n",
       "<style scoped>\n",
       "    .dataframe tbody tr th:only-of-type {\n",
       "        vertical-align: middle;\n",
       "    }\n",
       "\n",
       "    .dataframe tbody tr th {\n",
       "        vertical-align: top;\n",
       "    }\n",
       "\n",
       "    .dataframe thead th {\n",
       "        text-align: right;\n",
       "    }\n",
       "</style>\n",
       "<table border=\"1\" class=\"dataframe\">\n",
       "  <thead>\n",
       "    <tr style=\"text-align: right;\">\n",
       "      <th></th>\n",
       "      <th>dialogue</th>\n",
       "      <th>betrayal</th>\n",
       "      <th>battle</th>\n",
       "      <th>sacrifice</th>\n",
       "      <th>self development</th>\n",
       "      <th>hope</th>\n",
       "      <th>friendship</th>\n",
       "      <th>love</th>\n",
       "    </tr>\n",
       "  </thead>\n",
       "  <tbody>\n",
       "    <tr>\n",
       "      <th>0</th>\n",
       "      <td>0.958543</td>\n",
       "      <td>0.792707</td>\n",
       "      <td>0.756409</td>\n",
       "      <td>0.680432</td>\n",
       "      <td>0.798157</td>\n",
       "      <td>0.201669</td>\n",
       "      <td>0.072628</td>\n",
       "      <td>0.034141</td>\n",
       "    </tr>\n",
       "    <tr>\n",
       "      <th>1</th>\n",
       "      <td>0.960606</td>\n",
       "      <td>0.429944</td>\n",
       "      <td>0.684844</td>\n",
       "      <td>0.570702</td>\n",
       "      <td>0.482807</td>\n",
       "      <td>0.154534</td>\n",
       "      <td>0.046261</td>\n",
       "      <td>0.173261</td>\n",
       "    </tr>\n",
       "    <tr>\n",
       "      <th>2</th>\n",
       "      <td>0.943006</td>\n",
       "      <td>0.339491</td>\n",
       "      <td>0.707885</td>\n",
       "      <td>0.661516</td>\n",
       "      <td>0.724140</td>\n",
       "      <td>0.573633</td>\n",
       "      <td>0.342217</td>\n",
       "      <td>0.394863</td>\n",
       "    </tr>\n",
       "    <tr>\n",
       "      <th>3</th>\n",
       "      <td>0.795126</td>\n",
       "      <td>0.554723</td>\n",
       "      <td>0.723674</td>\n",
       "      <td>0.652153</td>\n",
       "      <td>0.861327</td>\n",
       "      <td>0.445293</td>\n",
       "      <td>0.525341</td>\n",
       "      <td>0.315333</td>\n",
       "    </tr>\n",
       "    <tr>\n",
       "      <th>4</th>\n",
       "      <td>0.914274</td>\n",
       "      <td>0.891102</td>\n",
       "      <td>0.783642</td>\n",
       "      <td>0.585847</td>\n",
       "      <td>0.550454</td>\n",
       "      <td>0.093763</td>\n",
       "      <td>0.073856</td>\n",
       "      <td>0.054070</td>\n",
       "    </tr>\n",
       "    <tr>\n",
       "      <th>...</th>\n",
       "      <td>...</td>\n",
       "      <td>...</td>\n",
       "      <td>...</td>\n",
       "      <td>...</td>\n",
       "      <td>...</td>\n",
       "      <td>...</td>\n",
       "      <td>...</td>\n",
       "      <td>...</td>\n",
       "    </tr>\n",
       "    <tr>\n",
       "      <th>213</th>\n",
       "      <td>0.898069</td>\n",
       "      <td>0.797842</td>\n",
       "      <td>0.254797</td>\n",
       "      <td>0.746412</td>\n",
       "      <td>0.605169</td>\n",
       "      <td>0.067470</td>\n",
       "      <td>0.413257</td>\n",
       "      <td>0.179151</td>\n",
       "    </tr>\n",
       "    <tr>\n",
       "      <th>214</th>\n",
       "      <td>0.958420</td>\n",
       "      <td>0.445381</td>\n",
       "      <td>0.775835</td>\n",
       "      <td>0.830450</td>\n",
       "      <td>0.594065</td>\n",
       "      <td>0.334442</td>\n",
       "      <td>0.681656</td>\n",
       "      <td>0.491752</td>\n",
       "    </tr>\n",
       "    <tr>\n",
       "      <th>215</th>\n",
       "      <td>0.937982</td>\n",
       "      <td>0.503365</td>\n",
       "      <td>0.915607</td>\n",
       "      <td>0.853974</td>\n",
       "      <td>0.605135</td>\n",
       "      <td>0.175045</td>\n",
       "      <td>0.299854</td>\n",
       "      <td>0.260860</td>\n",
       "    </tr>\n",
       "    <tr>\n",
       "      <th>216</th>\n",
       "      <td>0.877789</td>\n",
       "      <td>0.596258</td>\n",
       "      <td>0.838390</td>\n",
       "      <td>0.889953</td>\n",
       "      <td>0.691779</td>\n",
       "      <td>0.403402</td>\n",
       "      <td>0.823457</td>\n",
       "      <td>0.458263</td>\n",
       "    </tr>\n",
       "    <tr>\n",
       "      <th>217</th>\n",
       "      <td>0.923629</td>\n",
       "      <td>0.566673</td>\n",
       "      <td>0.835561</td>\n",
       "      <td>0.830249</td>\n",
       "      <td>0.797641</td>\n",
       "      <td>0.692495</td>\n",
       "      <td>0.691970</td>\n",
       "      <td>0.394184</td>\n",
       "    </tr>\n",
       "  </tbody>\n",
       "</table>\n",
       "<p>218 rows × 8 columns</p>\n",
       "</div>"
      ],
      "text/plain": [
       "     dialogue  betrayal    battle  sacrifice  self development      hope  \\\n",
       "0    0.958543  0.792707  0.756409   0.680432          0.798157  0.201669   \n",
       "1    0.960606  0.429944  0.684844   0.570702          0.482807  0.154534   \n",
       "2    0.943006  0.339491  0.707885   0.661516          0.724140  0.573633   \n",
       "3    0.795126  0.554723  0.723674   0.652153          0.861327  0.445293   \n",
       "4    0.914274  0.891102  0.783642   0.585847          0.550454  0.093763   \n",
       "..        ...       ...       ...        ...               ...       ...   \n",
       "213  0.898069  0.797842  0.254797   0.746412          0.605169  0.067470   \n",
       "214  0.958420  0.445381  0.775835   0.830450          0.594065  0.334442   \n",
       "215  0.937982  0.503365  0.915607   0.853974          0.605135  0.175045   \n",
       "216  0.877789  0.596258  0.838390   0.889953          0.691779  0.403402   \n",
       "217  0.923629  0.566673  0.835561   0.830249          0.797641  0.692495   \n",
       "\n",
       "     friendship      love  \n",
       "0      0.072628  0.034141  \n",
       "1      0.046261  0.173261  \n",
       "2      0.342217  0.394863  \n",
       "3      0.525341  0.315333  \n",
       "4      0.073856  0.054070  \n",
       "..          ...       ...  \n",
       "213    0.413257  0.179151  \n",
       "214    0.681656  0.491752  \n",
       "215    0.299854  0.260860  \n",
       "216    0.823457  0.458263  \n",
       "217    0.691970  0.394184  \n",
       "\n",
       "[218 rows x 8 columns]"
      ]
     },
     "execution_count": 58,
     "metadata": {},
     "output_type": "execute_result"
    }
   ],
   "source": [
    "theme_df = pd.DataFrame(output_themes.tolist())\n",
    "\n",
    "theme_df"
   ]
  },
  {
   "cell_type": "code",
   "execution_count": 59,
   "metadata": {},
   "outputs": [
    {
     "data": {
      "text/html": [
       "<div>\n",
       "<style scoped>\n",
       "    .dataframe tbody tr th:only-of-type {\n",
       "        vertical-align: middle;\n",
       "    }\n",
       "\n",
       "    .dataframe tbody tr th {\n",
       "        vertical-align: top;\n",
       "    }\n",
       "\n",
       "    .dataframe thead th {\n",
       "        text-align: right;\n",
       "    }\n",
       "</style>\n",
       "<table border=\"1\" class=\"dataframe\">\n",
       "  <thead>\n",
       "    <tr style=\"text-align: right;\">\n",
       "      <th></th>\n",
       "      <th>episode</th>\n",
       "      <th>script</th>\n",
       "      <th>dialogue</th>\n",
       "      <th>betrayal</th>\n",
       "      <th>battle</th>\n",
       "      <th>sacrifice</th>\n",
       "      <th>self development</th>\n",
       "      <th>hope</th>\n",
       "      <th>friendship</th>\n",
       "      <th>love</th>\n",
       "    </tr>\n",
       "  </thead>\n",
       "  <tbody>\n",
       "    <tr>\n",
       "      <th>0</th>\n",
       "      <td>1</td>\n",
       "      <td>A long time ago, a powerful demon fox appeared...</td>\n",
       "      <td>0.958543</td>\n",
       "      <td>0.792707</td>\n",
       "      <td>0.756409</td>\n",
       "      <td>0.680432</td>\n",
       "      <td>0.798157</td>\n",
       "      <td>0.201669</td>\n",
       "      <td>0.072628</td>\n",
       "      <td>0.034141</td>\n",
       "    </tr>\n",
       "    <tr>\n",
       "      <th>1</th>\n",
       "      <td>2</td>\n",
       "      <td>C'mon!\\n Running like a fugitive,\\n Being chas...</td>\n",
       "      <td>0.960606</td>\n",
       "      <td>0.429944</td>\n",
       "      <td>0.684844</td>\n",
       "      <td>0.570702</td>\n",
       "      <td>0.482807</td>\n",
       "      <td>0.154534</td>\n",
       "      <td>0.046261</td>\n",
       "      <td>0.173261</td>\n",
       "    </tr>\n",
       "    <tr>\n",
       "      <th>2</th>\n",
       "      <td>3</td>\n",
       "      <td>C'mon!\\n Running like a fugitive,\\n Being chas...</td>\n",
       "      <td>0.943006</td>\n",
       "      <td>0.339491</td>\n",
       "      <td>0.707885</td>\n",
       "      <td>0.661516</td>\n",
       "      <td>0.724140</td>\n",
       "      <td>0.573633</td>\n",
       "      <td>0.342217</td>\n",
       "      <td>0.394863</td>\n",
       "    </tr>\n",
       "    <tr>\n",
       "      <th>3</th>\n",
       "      <td>4</td>\n",
       "      <td>C'mon!\\n Running like a fugitive,\\n Being chas...</td>\n",
       "      <td>0.795126</td>\n",
       "      <td>0.554723</td>\n",
       "      <td>0.723674</td>\n",
       "      <td>0.652153</td>\n",
       "      <td>0.861327</td>\n",
       "      <td>0.445293</td>\n",
       "      <td>0.525341</td>\n",
       "      <td>0.315333</td>\n",
       "    </tr>\n",
       "    <tr>\n",
       "      <th>4</th>\n",
       "      <td>5</td>\n",
       "      <td>C'mon!\\n Running like a fugitive,\\n Being chas...</td>\n",
       "      <td>0.914274</td>\n",
       "      <td>0.891102</td>\n",
       "      <td>0.783642</td>\n",
       "      <td>0.585847</td>\n",
       "      <td>0.550454</td>\n",
       "      <td>0.093763</td>\n",
       "      <td>0.073856</td>\n",
       "      <td>0.054070</td>\n",
       "    </tr>\n",
       "    <tr>\n",
       "      <th>...</th>\n",
       "      <td>...</td>\n",
       "      <td>...</td>\n",
       "      <td>...</td>\n",
       "      <td>...</td>\n",
       "      <td>...</td>\n",
       "      <td>...</td>\n",
       "      <td>...</td>\n",
       "      <td>...</td>\n",
       "      <td>...</td>\n",
       "      <td>...</td>\n",
       "    </tr>\n",
       "    <tr>\n",
       "      <th>213</th>\n",
       "      <td>216</td>\n",
       "      <td>Summoning Jutsu!\\n Oh, long time no see.\\n We ...</td>\n",
       "      <td>0.898069</td>\n",
       "      <td>0.797842</td>\n",
       "      <td>0.254797</td>\n",
       "      <td>0.746412</td>\n",
       "      <td>0.605169</td>\n",
       "      <td>0.067470</td>\n",
       "      <td>0.413257</td>\n",
       "      <td>0.179151</td>\n",
       "    </tr>\n",
       "    <tr>\n",
       "      <th>214</th>\n",
       "      <td>217</td>\n",
       "      <td>Gaara.\\n Kankuro.\\n Gaara.\\n Primary Lotus!\\n ...</td>\n",
       "      <td>0.958420</td>\n",
       "      <td>0.445381</td>\n",
       "      <td>0.775835</td>\n",
       "      <td>0.830450</td>\n",
       "      <td>0.594065</td>\n",
       "      <td>0.334442</td>\n",
       "      <td>0.681656</td>\n",
       "      <td>0.491752</td>\n",
       "    </tr>\n",
       "    <tr>\n",
       "      <th>215</th>\n",
       "      <td>218</td>\n",
       "      <td>To think the Leaf’s reinforcements will be you...</td>\n",
       "      <td>0.937982</td>\n",
       "      <td>0.503365</td>\n",
       "      <td>0.915607</td>\n",
       "      <td>0.853974</td>\n",
       "      <td>0.605135</td>\n",
       "      <td>0.175045</td>\n",
       "      <td>0.299854</td>\n",
       "      <td>0.260860</td>\n",
       "    </tr>\n",
       "    <tr>\n",
       "      <th>216</th>\n",
       "      <td>219</td>\n",
       "      <td>Fly into the wavy and twisted sky, into your h...</td>\n",
       "      <td>0.877789</td>\n",
       "      <td>0.596258</td>\n",
       "      <td>0.838390</td>\n",
       "      <td>0.889953</td>\n",
       "      <td>0.691779</td>\n",
       "      <td>0.403402</td>\n",
       "      <td>0.823457</td>\n",
       "      <td>0.458263</td>\n",
       "    </tr>\n",
       "    <tr>\n",
       "      <th>217</th>\n",
       "      <td>220</td>\n",
       "      <td>So this is the Shukaku?\\n It’s the first time ...</td>\n",
       "      <td>0.923629</td>\n",
       "      <td>0.566673</td>\n",
       "      <td>0.835561</td>\n",
       "      <td>0.830249</td>\n",
       "      <td>0.797641</td>\n",
       "      <td>0.692495</td>\n",
       "      <td>0.691970</td>\n",
       "      <td>0.394184</td>\n",
       "    </tr>\n",
       "  </tbody>\n",
       "</table>\n",
       "<p>218 rows × 10 columns</p>\n",
       "</div>"
      ],
      "text/plain": [
       "     episode                                             script  dialogue  \\\n",
       "0          1  A long time ago, a powerful demon fox appeared...  0.958543   \n",
       "1          2  C'mon!\\n Running like a fugitive,\\n Being chas...  0.960606   \n",
       "2          3  C'mon!\\n Running like a fugitive,\\n Being chas...  0.943006   \n",
       "3          4  C'mon!\\n Running like a fugitive,\\n Being chas...  0.795126   \n",
       "4          5  C'mon!\\n Running like a fugitive,\\n Being chas...  0.914274   \n",
       "..       ...                                                ...       ...   \n",
       "213      216  Summoning Jutsu!\\n Oh, long time no see.\\n We ...  0.898069   \n",
       "214      217  Gaara.\\n Kankuro.\\n Gaara.\\n Primary Lotus!\\n ...  0.958420   \n",
       "215      218  To think the Leaf’s reinforcements will be you...  0.937982   \n",
       "216      219  Fly into the wavy and twisted sky, into your h...  0.877789   \n",
       "217      220  So this is the Shukaku?\\n It’s the first time ...  0.923629   \n",
       "\n",
       "     betrayal    battle  sacrifice  self development      hope  friendship  \\\n",
       "0    0.792707  0.756409   0.680432          0.798157  0.201669    0.072628   \n",
       "1    0.429944  0.684844   0.570702          0.482807  0.154534    0.046261   \n",
       "2    0.339491  0.707885   0.661516          0.724140  0.573633    0.342217   \n",
       "3    0.554723  0.723674   0.652153          0.861327  0.445293    0.525341   \n",
       "4    0.891102  0.783642   0.585847          0.550454  0.093763    0.073856   \n",
       "..        ...       ...        ...               ...       ...         ...   \n",
       "213  0.797842  0.254797   0.746412          0.605169  0.067470    0.413257   \n",
       "214  0.445381  0.775835   0.830450          0.594065  0.334442    0.681656   \n",
       "215  0.503365  0.915607   0.853974          0.605135  0.175045    0.299854   \n",
       "216  0.596258  0.838390   0.889953          0.691779  0.403402    0.823457   \n",
       "217  0.566673  0.835561   0.830249          0.797641  0.692495    0.691970   \n",
       "\n",
       "         love  \n",
       "0    0.034141  \n",
       "1    0.173261  \n",
       "2    0.394863  \n",
       "3    0.315333  \n",
       "4    0.054070  \n",
       "..        ...  \n",
       "213  0.179151  \n",
       "214  0.491752  \n",
       "215  0.260860  \n",
       "216  0.458263  \n",
       "217  0.394184  \n",
       "\n",
       "[218 rows x 10 columns]"
      ]
     },
     "execution_count": 59,
     "metadata": {},
     "output_type": "execute_result"
    }
   ],
   "source": [
    "df[theme_df.columns] = theme_df\n",
    "df"
   ]
  },
  {
   "cell_type": "markdown",
   "metadata": {},
   "source": [
    "# VISUALIZE OUTPUT"
   ]
  },
  {
   "cell_type": "code",
   "execution_count": null,
   "metadata": {},
   "outputs": [],
   "source": [
    "# dropping dialogue as it can be any convo\n",
    "df = df.drop('dialogue',axis=1)"
   ]
  },
  {
   "cell_type": "code",
   "execution_count": null,
   "metadata": {},
   "outputs": [
    {
     "data": {
      "text/html": [
       "<div>\n",
       "<style scoped>\n",
       "    .dataframe tbody tr th:only-of-type {\n",
       "        vertical-align: middle;\n",
       "    }\n",
       "\n",
       "    .dataframe tbody tr th {\n",
       "        vertical-align: top;\n",
       "    }\n",
       "\n",
       "    .dataframe thead th {\n",
       "        text-align: right;\n",
       "    }\n",
       "</style>\n",
       "<table border=\"1\" class=\"dataframe\">\n",
       "  <thead>\n",
       "    <tr style=\"text-align: right;\">\n",
       "      <th></th>\n",
       "      <th>theme</th>\n",
       "      <th>score</th>\n",
       "    </tr>\n",
       "  </thead>\n",
       "  <tbody>\n",
       "    <tr>\n",
       "      <th>0</th>\n",
       "      <td>betrayal</td>\n",
       "      <td>125.939202</td>\n",
       "    </tr>\n",
       "    <tr>\n",
       "      <th>1</th>\n",
       "      <td>battle</td>\n",
       "      <td>160.191156</td>\n",
       "    </tr>\n",
       "    <tr>\n",
       "      <th>2</th>\n",
       "      <td>sacrifice</td>\n",
       "      <td>174.533173</td>\n",
       "    </tr>\n",
       "    <tr>\n",
       "      <th>3</th>\n",
       "      <td>self development</td>\n",
       "      <td>158.880458</td>\n",
       "    </tr>\n",
       "    <tr>\n",
       "      <th>4</th>\n",
       "      <td>hope</td>\n",
       "      <td>93.879776</td>\n",
       "    </tr>\n",
       "    <tr>\n",
       "      <th>5</th>\n",
       "      <td>friendship</td>\n",
       "      <td>82.097135</td>\n",
       "    </tr>\n",
       "    <tr>\n",
       "      <th>6</th>\n",
       "      <td>love</td>\n",
       "      <td>54.508286</td>\n",
       "    </tr>\n",
       "  </tbody>\n",
       "</table>\n",
       "</div>"
      ],
      "text/plain": [
       "              theme       score\n",
       "0          betrayal  125.939202\n",
       "1            battle  160.191156\n",
       "2         sacrifice  174.533173\n",
       "3  self development  158.880458\n",
       "4              hope   93.879776\n",
       "5        friendship   82.097135\n",
       "6              love   54.508286"
      ]
     },
     "execution_count": 64,
     "metadata": {},
     "output_type": "execute_result"
    }
   ],
   "source": [
    "# dont need episode and script \n",
    "theme_output = df.drop(['episode','script'],axis=1).sum().reset_index()\n",
    "# WHAT WE NEED : \n",
    "theme_output.columns = ['theme', 'score']\n",
    "theme_output"
   ]
  },
  {
   "cell_type": "code",
   "execution_count": 67,
   "metadata": {},
   "outputs": [
    {
     "data": {
      "image/png": "[encoded data removed]",
      "text/plain": [
       "<Figure size 640x480 with 1 Axes>"
      ]
     },
     "metadata": {},
     "output_type": "display_data"
    }
   ],
   "source": [
    "# convert to visualiation\n",
    "sns.barplot(data=theme_output, x=\"theme\", y=\"score\")\n",
    "plt.xticks(rotation=45)\n",
    "plt.show()"
   ]
  }
 ],
 "metadata": {
  "kernelspec": {
   "display_name": "Python 3",
   "language": "python",
   "name": "python3"
  },
  "language_info": {
   "codemirror_mode": {
    "name": "ipython",
    "version": 3
   },
   "file_extension": ".py",
   "mimetype": "text/x-python",
   "name": "python",
   "nbconvert_exporter": "python",
   "pygments_lexer": "ipython3",
   "version": "3.10.11"
  }
 },
 "nbformat": 4,
 "nbformat_minor": 2
}
